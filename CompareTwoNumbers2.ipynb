{
 "cells": [
  {
   "cell_type": "code",
   "execution_count": 20,
   "id": "59ed55ec-9e39-4cf0-93db-a928a46cdd62",
   "metadata": {},
   "outputs": [
    {
     "name": "stderr",
     "output_type": "stream",
     "text": [
      "ibmqfactory.load_account:WARNING:2023-03-14 02:05:01,194: Credentials are already in use. The existing account in the session will be replaced.\n"
     ]
    }
   ],
   "source": [
    "from qiskit import QuantumCircuit, QuantumRegister, ClassicalRegister, execute, Aer\n",
    "\n",
    "# Loading your IBM Quantum account(s)\n",
    "provider = IBMQ.load_account()"
   ]
  },
  {
   "cell_type": "code",
   "execution_count": 38,
   "id": "66b22fe3-8c85-4c07-8cb4-aa7267e66e6b",
   "metadata": {},
   "outputs": [
    {
     "name": "stdout",
     "output_type": "stream",
     "text": [
      "The bigger number is 6\n"
     ]
    },
    {
     "data": {
      "image/png": "[encoded data removed]",
      "text/plain": [
       "<Figure size 601.22x686.28 with 1 Axes>"
      ]
     },
     "execution_count": 38,
     "metadata": {},
     "output_type": "execute_result"
    }
   ],
   "source": [
    "def comparison(number1, number2):\n",
    "    \n",
    "    #convert number1 and number2 to binary\n",
    "    binary1 = format(number1, 'b')\n",
    "    binary2 = format(number2, 'b')\n",
    "    \n",
    "    #this will be the size of the aux register\n",
    "    max_length = max(len(binary1), len(binary2))\n",
    "    \n",
    "    #create some registers for the numbers, the extra qubits, and the result\n",
    "    nr = QuantumRegister(max_length, 'n')\n",
    "    mr = QuantumRegister(max_length, 'm')\n",
    "    aux = QuantumRegister(max_length, 'aux')\n",
    "    result = QuantumRegister(1, \"result\")\n",
    "    cr = ClassicalRegister(1, \"creg\")\n",
    "    \n",
    "    nqubits = max_length * 3 + 1\n",
    "    \n",
    "    #define the circuit\n",
    "    qc = QuantumCircuit(nr, mr, aux, result, cr)\n",
    "    \n",
    "    #encode number1\n",
    "    for i in range(len(binary1)):\n",
    "        if binary1[i] == \"1\":\n",
    "            qc.x(nr[i])\n",
    "            \n",
    "    #encode number2\n",
    "    for i in range(len(binary2)):\n",
    "        if binary2[i] == \"1\":\n",
    "            qc.x(mr[i])\n",
    "    \n",
    "    #compare each number \n",
    "    for i in range(max_length):\n",
    "        qc.cswap(result, nr[i], mr[i])\n",
    "        qc.cswap(result, mr[i], aux[i])\n",
    "    \n",
    "    qc.measure(result[0], cr[0])\n",
    "    \n",
    "    # execute the circuit on a simulator\n",
    "    backend = Aer.get_backend('qasm_simulator')\n",
    "    counts = execute(qc, backend, shots=1).result().get_counts()\n",
    "    \n",
    "    # determine which number is bigger and print it\n",
    "    if list(counts.keys())[0] == '1':\n",
    "        print(f\"The bigger number is {number1}\")\n",
    "    else:\n",
    "        print(f\"The bigger number is {number2}\")\n",
    "    \n",
    "    return qc.draw()\n",
    "\n",
    "comparison(5, 6)\n"
   ]
  },
  {
   "cell_type": "code",
   "execution_count": null,
   "id": "25a7eab5-b8de-4ac3-ae7e-4c3a8208bb10",
   "metadata": {},
   "outputs": [],
   "source": []
  },
  {
   "cell_type": "code",
   "execution_count": null,
   "id": "17f106c0-8cea-47d7-a2fa-32d514459429",
   "metadata": {},
   "outputs": [],
   "source": []
  }
 ],
 "metadata": {
  "kernelspec": {
   "display_name": "Python 3 (ipykernel)",
   "language": "python",
   "name": "python3"
  },
  "language_info": {
   "codemirror_mode": {
    "name": "ipython",
    "version": 3
   },
   "file_extension": ".py",
   "mimetype": "text/x-python",
   "name": "python",
   "nbconvert_exporter": "python",
   "pygments_lexer": "ipython3",
   "version": "3.8.15"
  },
  "widgets": {
   "application/vnd.jupyter.widget-state+json": {
    "state": {
     "0b92eb939ca14fe2bdbdb5d819555c45": {
      "model_module": "@jupyter-widgets/controls",
      "model_module_version": "1.5.0",
      "model_name": "DescriptionStyleModel",
      "state": {
       "description_width": ""
      }
     },
     "1227de9dcb594abf97e803e4b1c1cf3c": {
      "model_module": "@jupyter-widgets/controls",
      "model_module_version": "1.5.0",
      "model_name": "DescriptionStyleModel",
      "state": {
       "description_width": ""
      }
     },
     "187f7e0693c1430fa65ba1617b7b9f3d": {
      "model_module": "@jupyter-widgets/base",
      "model_module_version": "1.2.0",
      "model_name": "LayoutModel",
      "state": {
       "grid_area": "right",
       "padding": "0px 0px 0px 0px",
       "width": "70px"
      }
     },
     "1e8f7cb128bf491bb2c4217e27c4f782": {
      "model_module": "@jupyter-widgets/controls",
      "model_module_version": "1.5.0",
      "model_name": "ButtonStyleModel",
      "state": {}
     },
     "2835ff9f54444c9aaefcb44905f30abc": {
      "model_module": "@jupyter-widgets/controls",
      "model_module_version": "1.5.0",
      "model_name": "HBoxModel",
      "state": {
       "children": [
        "IPY_MODEL_eb364ad2859f46098fe3622055944295",
        "IPY_MODEL_4a5d2462fbfa4e1c80866109f5842eba",
        "IPY_MODEL_e23fd67cf1f949f9a655222df8fd1096",
        "IPY_MODEL_fb9887d610494b8dbbe7066ae0882dde",
        "IPY_MODEL_454e0b530d0f4f0399f73eacda328a77"
       ],
       "layout": "IPY_MODEL_efb9c1b5a6d94e65a26dc32987f151c0"
      }
     },
     "40ff4af8982348d1ac57483ee346ff55": {
      "model_module": "@jupyter-widgets/base",
      "model_module_version": "1.2.0",
      "model_name": "LayoutModel",
      "state": {
       "width": "190px"
      }
     },
     "4549cbb7b78b453ba1e1d22e4a6fd8d1": {
      "model_module": "@jupyter-widgets/controls",
      "model_module_version": "1.5.0",
      "model_name": "DescriptionStyleModel",
      "state": {
       "description_width": ""
      }
     },
     "454e0b530d0f4f0399f73eacda328a77": {
      "model_module": "@jupyter-widgets/controls",
      "model_module_version": "1.5.0",
      "model_name": "HTMLModel",
      "state": {
       "layout": "IPY_MODEL_c0d55bcab13646f29d383c2cc2b609d3",
       "style": "IPY_MODEL_f811280bd5c741fe90e38b964fe24237",
       "value": "<h5>Message</h5>"
      }
     },
     "4a5d2462fbfa4e1c80866109f5842eba": {
      "model_module": "@jupyter-widgets/controls",
      "model_module_version": "1.5.0",
      "model_name": "HTMLModel",
      "state": {
       "layout": "IPY_MODEL_8a3fc7f7792247dfbf023275eb232ff7",
       "style": "IPY_MODEL_0b92eb939ca14fe2bdbdb5d819555c45",
       "value": "<h5>Backend</h5>"
      }
     },
     "4d56d1c2475445c6849b4e8048061d18": {
      "model_module": "@jupyter-widgets/base",
      "model_module_version": "1.2.0",
      "model_name": "LayoutModel",
      "state": {
       "width": "70px"
      }
     },
     "6512c7363e0a49dd9b7e601db38920eb": {
      "model_module": "@jupyter-widgets/controls",
      "model_module_version": "1.5.0",
      "model_name": "DescriptionStyleModel",
      "state": {
       "description_width": ""
      }
     },
     "6ce81ac74c1348b5a3cd7ad70f653d0a": {
      "model_module": "@jupyter-widgets/controls",
      "model_module_version": "1.5.0",
      "model_name": "HTMLModel",
      "state": {
       "layout": "IPY_MODEL_b5293c88625c4a7c926a801fcc41758b",
       "style": "IPY_MODEL_a7ca3eb98e064b4598a617bfb0ddf3d8",
       "value": "<p style='font-family: IBM Plex Sans, Arial, Helvetica, sans-serif; font-size: 20px; font-weight: medium;'>Circuit Properties</p>"
      }
     },
     "7d8438ac59214eadbd32a6da5e48dd6c": {
      "model_module": "@jupyter-widgets/controls",
      "model_module_version": "1.5.0",
      "model_name": "ButtonModel",
      "state": {
       "button_style": "primary",
       "description": "Clear",
       "layout": "IPY_MODEL_187f7e0693c1430fa65ba1617b7b9f3d",
       "style": "IPY_MODEL_1e8f7cb128bf491bb2c4217e27c4f782"
      }
     },
     "8a3fc7f7792247dfbf023275eb232ff7": {
      "model_module": "@jupyter-widgets/base",
      "model_module_version": "1.2.0",
      "model_name": "LayoutModel",
      "state": {
       "width": "145px"
      }
     },
     "a7ca3eb98e064b4598a617bfb0ddf3d8": {
      "model_module": "@jupyter-widgets/controls",
      "model_module_version": "1.5.0",
      "model_name": "DescriptionStyleModel",
      "state": {
       "description_width": ""
      }
     },
     "b5293c88625c4a7c926a801fcc41758b": {
      "model_module": "@jupyter-widgets/base",
      "model_module_version": "1.2.0",
      "model_name": "LayoutModel",
      "state": {
       "margin": "0px 0px 10px 0px"
      }
     },
     "c0d55bcab13646f29d383c2cc2b609d3": {
      "model_module": "@jupyter-widgets/base",
      "model_module_version": "1.2.0",
      "model_name": "LayoutModel",
      "state": {}
     },
     "c4be56da6a1c4a699abd3d954356c9e1": {
      "model_module": "@jupyter-widgets/base",
      "model_module_version": "1.2.0",
      "model_name": "LayoutModel",
      "state": {
       "width": "95px"
      }
     },
     "d10c9f9b69bc4dca8a2b11cee18306ad": {
      "model_module": "@jupyter-widgets/controls",
      "model_module_version": "1.5.0",
      "model_name": "GridBoxModel",
      "state": {
       "children": [
        "IPY_MODEL_7d8438ac59214eadbd32a6da5e48dd6c"
       ],
       "layout": "IPY_MODEL_e867899f037043349d419668358d432f"
      }
     },
     "e23fd67cf1f949f9a655222df8fd1096": {
      "model_module": "@jupyter-widgets/controls",
      "model_module_version": "1.5.0",
      "model_name": "HTMLModel",
      "state": {
       "layout": "IPY_MODEL_c4be56da6a1c4a699abd3d954356c9e1",
       "style": "IPY_MODEL_4549cbb7b78b453ba1e1d22e4a6fd8d1",
       "value": "<h5>Status</h5>"
      }
     },
     "e867899f037043349d419668358d432f": {
      "model_module": "@jupyter-widgets/base",
      "model_module_version": "1.2.0",
      "model_name": "LayoutModel",
      "state": {
       "grid_template_areas": "\n                                       \". . . . right \"\n                                        ",
       "grid_template_columns": "20% 20% 20% 20% 20%",
       "width": "100%"
      }
     },
     "eb364ad2859f46098fe3622055944295": {
      "model_module": "@jupyter-widgets/controls",
      "model_module_version": "1.5.0",
      "model_name": "HTMLModel",
      "state": {
       "layout": "IPY_MODEL_40ff4af8982348d1ac57483ee346ff55",
       "style": "IPY_MODEL_6512c7363e0a49dd9b7e601db38920eb",
       "value": "<h5>Job ID</h5>"
      }
     },
     "efb9c1b5a6d94e65a26dc32987f151c0": {
      "model_module": "@jupyter-widgets/base",
      "model_module_version": "1.2.0",
      "model_name": "LayoutModel",
      "state": {
       "margin": "0px 0px 0px 37px",
       "width": "600px"
      }
     },
     "f811280bd5c741fe90e38b964fe24237": {
      "model_module": "@jupyter-widgets/controls",
      "model_module_version": "1.5.0",
      "model_name": "DescriptionStyleModel",
      "state": {
       "description_width": ""
      }
     },
     "fb9887d610494b8dbbe7066ae0882dde": {
      "model_module": "@jupyter-widgets/controls",
      "model_module_version": "1.5.0",
      "model_name": "HTMLModel",
      "state": {
       "layout": "IPY_MODEL_4d56d1c2475445c6849b4e8048061d18",
       "style": "IPY_MODEL_1227de9dcb594abf97e803e4b1c1cf3c",
       "value": "<h5>Queue</h5>"
      }
     }
    },
    "version_major": 2,
    "version_minor": 0
   }
  }
 },
 "nbformat": 4,
 "nbformat_minor": 5
}
